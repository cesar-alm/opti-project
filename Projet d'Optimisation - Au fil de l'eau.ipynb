{
 "cells": [
  {
   "cell_type": "markdown",
   "id": "equivalent-advertiser",
   "metadata": {},
   "source": [
    "ALMECIJA César\n",
    "\n",
    "FONTAINE Florestan"
   ]
  },
  {
   "cell_type": "markdown",
   "id": "gross-rendering",
   "metadata": {},
   "source": [
    "# Projet d'optimisation - Au fil de l'eau"
   ]
  },
  {
   "cell_type": "markdown",
   "id": "previous-nicaragua",
   "metadata": {},
   "source": [
    "## Préambule : imports et définitions des constantes"
   ]
  },
  {
   "cell_type": "code",
   "execution_count": 1,
   "id": "accompanied-thursday",
   "metadata": {},
   "outputs": [],
   "source": [
    "# Imports\n",
    "from casadi import *\n",
    "import numpy as np"
   ]
  },
  {
   "cell_type": "code",
   "execution_count": 2,
   "id": "radical-advice",
   "metadata": {},
   "outputs": [],
   "source": [
    "# Constantes\n",
    "l = 7\n",
    "m = 5\n",
    "mr = 2\n",
    "md = 3\n",
    "\n",
    "# Données du problème\n",
    "A = np.array([[-1,-1,0,0,0,0,0],\n",
    "              [0,0,-1,-1,0,0,0],\n",
    "              [1,0,0,1,-1,0,-1],\n",
    "              [0,1,0,0,1,-1,0],\n",
    "              [0,0,1,0,0,1,1]])\n",
    "r = np.array([100,10,1000,100,100,10,1000])\n",
    "\n",
    "# Conditions initiales\n",
    "pr = np.array([105,104])\n",
    "fd = np.array([0.08,1.3,0.13])"
   ]
  },
  {
   "cell_type": "markdown",
   "id": "compatible-remedy",
   "metadata": {},
   "source": [
    "## Partie I"
   ]
  },
  {
   "cell_type": "markdown",
   "id": "sixth-blues",
   "metadata": {},
   "source": [
    "## Question 1 : justification du coût"
   ]
  },
  {
   "cell_type": "markdown",
   "id": "protected-source",
   "metadata": {},
   "source": [
    "L'objectif de cette étude est de connaître des informations physiques sur le réseau : les pressions, les flux et les débits. Ils correspondent donc à la réalité physique sous-jacente de notre réseau. Celle-ci se traduit par le respect des équations $(2)$ et $(4)$, qui peuvent s'écrire :\n",
    "\n",
    "$$\n",
    "\\left\\{\n",
    "\\begin{array}{rcl}\n",
    "\\|Aq-f\\|^2&=&0\\\\\n",
    "\\|r\\bullet q \\bullet | q | - A^Tp\\|^2 & = & 0\n",
    "\\end{array}\n",
    "\\right.\n",
    "$$\n",
    "\n",
    "Ainsi, pour s'approcher de la réalité physique du réseau, il faut que ces deux équations soient respectées. On cherche donc à minimiser les valeurs $\\|Aq-f\\|^2$ et $\\|r\\bullet q \\bullet | q | - A^Tp\\|^2$, puisque leur minimum vaut justement 0.\n",
    "\n",
    "Comme ces deux valeurs sont positives, en minimisant leur somme on s'assure de minimmiser $\\|Aq-f\\|^2$ et $\\|r\\bullet q \\bullet | q | - A^Tp\\|^2$ individuellement (si la somme est petite, alors chaque terme est au moins aussi petit).\n",
    "\n",
    "**La valeur $\\|Aq-f\\|^2 + \\|r\\bullet q \\bullet | q | - A^Tp\\|^2$ est donc bien un coût, puisque c'est une fonction que l'on cherche à minimiser pour s'approcher de la réalité physique du réseau que l'on modélise.**"
   ]
  },
  {
   "cell_type": "markdown",
   "id": "anonymous-clinic",
   "metadata": {},
   "source": [
    "## Question 2 : formulation du premier problème d'optimisation"
   ]
  },
  {
   "cell_type": "markdown",
   "id": "collaborative-jewel",
   "metadata": {},
   "source": [
    "### $\\bullet$ Choix de $z$\n",
    "\n",
    "On choisit $z$ comme un vecteur de taille $n=2m+l$, qui s'écrit :\n",
    "\n",
    "$$\n",
    "z =\n",
    "\\left(\n",
    "\\begin{array}{c}\n",
    "p\\\\\n",
    "f\\\\\n",
    "q\n",
    "\\end{array}\n",
    "\\right)\n",
    "$$\n",
    "\n",
    "C'est-à-dire que :\n",
    "* ses $m$ **premières coordonnées correspondent aux pressions** (plus précisemment, les $m_r$ premières correspondent aux *pressions aux réservoirs* et les $m_d$ suivantes aux *pressions aux demandes*).\n",
    "* ses $m$ **coordonnées suivantes correspondent aux flux** (même remarque)\n",
    "* enfin, ses $l$ **dernières coordonnées correspondent aux débits**.\n",
    "\n",
    "### $\\bullet$ Choix des contraintes égalités $c_{eq}$\n",
    "\n",
    "La contrainte $c_{eq}$ est une contrainte qui impose les \"conditions initiales\" : dans notre cas, il s'agit des informations que l'on connaît. Plus précisemment, il s'agit de $p_r$ et de $f_d$. Ainsi, cela justifie la forme de $c_{eq}$ suivante :\n",
    "\n",
    "$$\n",
    "c_{eq}:\n",
    "\\left\\{\n",
    "\\begin{array}{rcl}\n",
    "\\mathbb{R}^n & \\longrightarrow & \\mathbb{R}^m\\\\\n",
    "z =\n",
    "\\left(\n",
    "\\begin{array}{c}\n",
    "p_r\\\\\n",
    "p_d\\\\\n",
    "f_r\\\\\n",
    "f_d\\\\\n",
    "q\n",
    "\\end{array}\n",
    "\\right) & \\longmapsto &\n",
    "\\left(\n",
    "\\begin{array}{c}\n",
    "p_r - p_{r, connu}\\\\\n",
    "f_d - f_{d, connu}\n",
    "\\end{array}\n",
    "\\right)\n",
    "\\end{array}\n",
    "\\right.\n",
    "$$\n",
    "\n",
    "### $\\bullet$ Choix du coût $f(z)$\n",
    "\n",
    "On reprend la fonction coût de la question précédente. $r$ et $A$ sont considérées comme des données du problème :\n",
    "\n",
    "$$\n",
    "f:\n",
    "\\left\\{\n",
    "\\begin{array}{rcl}\n",
    "\\mathbb{R}^n & \\longrightarrow & \\mathbb{R}\\\\\n",
    "z =\n",
    "\\left(\n",
    "\\begin{array}{c}\n",
    "p\\\\\n",
    "f\\\\\n",
    "q\n",
    "\\end{array}\n",
    "\\right)& \\longmapsto & \\|Aq-f\\|^2 + \\|r\\bullet q \\bullet | q | - A^Tp\\|^2\n",
    "\\end{array}\n",
    "\\right.\n",
    "$$"
   ]
  },
  {
   "cell_type": "markdown",
   "id": "thirty-climate",
   "metadata": {},
   "source": [
    "## Question 3 : justification du deuxième problème d'optimisation"
   ]
  },
  {
   "cell_type": "markdown",
   "id": "offshore-symposium",
   "metadata": {},
   "source": [
    "Dans cette démarche, l'inconnue est constituée des débits $q$ et de $f_r$. Elles ne correspondent pas à des données du problème (qui sont $p_r$ et $f_d$), donc il est normal que les données n'interviennent pas dans les contraintes.\n",
    "\n",
    "Concernant le respect des équations physiques :\n",
    "* l'une d'entre elles est directement spécifiée dans les contraintes (l'équation $(2)$), ce qui explique qu'elle soit une condition de stationnarité.\n",
    "* l'autre (l'équation $(4)$) est dans les conditions de stationnarité admises. Atteindre, ou s'approcher du minimum, implique donc de respecter l'équation $(4)$.\n",
    "\n",
    "Ainsi, résoudre ce problème fournit une **solution physiquement réaliste**. Sachant qu'elle prend en compte les données du problème ($f_d$ est contenu dans la contrainte, et $p_r$ est dans le coût), c'est une **bonne démarche pour résoudre ce problème.**"
   ]
  },
  {
   "cell_type": "markdown",
   "id": "widespread-fireplace",
   "metadata": {},
   "source": [
    "## Question 4 : comment trouver $p$ à l'aide du deuxième problème ?"
   ]
  },
  {
   "cell_type": "markdown",
   "id": "employed-substance",
   "metadata": {},
   "source": [
    "Résoudre ce problème d'optimisation nous fournit $q$. Or, l'équation $(4)$ s'écrit :\n",
    "$$\n",
    "A^Tp=r\\bullet q \\bullet |q|\n",
    "$$\n",
    "Pour trouver $p$, on aimerait utiliser $A^{T^{-1}}$. Cependant, $A$ n'est pas carrée, donc *a fortiori* non-inversible. On opte donc pour une résolution numérique, en résolvant le problème d'optimisation suivant, où $r$, $q$ et $A$ sont des données :\n",
    "\n",
    "$$\n",
    "\\min_{p \\in \\mathbb{R}^{m}, p_r=p_{r, donne}}\\|A^Tp-r\\bullet q \\bullet |q|\\|\n",
    "$$\n",
    "\n",
    "Il s'agit de la méthode des moindres carrées :\n",
    "* lorsque $A$ est de rang plein (ce qui n'est pas le cas par la suite), on dispose d'une solution exacte vue en TD\n",
    "* autrement, on passe par une résolution numérique (ce que l'on fera par la suite), en imposant la contrainte correspondant aux conditions initiales $p_r$."
   ]
  },
  {
   "cell_type": "markdown",
   "id": "continued-context",
   "metadata": {},
   "source": [
    "## Question 5 : comparaison des deux problèmes d'optimisation"
   ]
  },
  {
   "cell_type": "markdown",
   "id": "interior-round",
   "metadata": {},
   "source": [
    "Voici une comparaison sur divers aspects. Ceux-ci seront rediscutés à la question 9.\n",
    "\n",
    "### $\\bullet$ Respect de la réalité physique\n",
    "\n",
    "On rappelle que **l'objectif de la résolution de ces deux problèmes d'optimisation est de trouver la réalité physique sous-jacente du réseau**. Il est donc indispensable que la méthode de résolution assure de trouver une solution physiquement réaliste. Cela se traduit par le respect des équations $(2)$ et $(4)$.\n",
    "\n",
    "Nous avons vu que la première méthode avait justement pour objectif de minimiser le \"non-respect\" de ces équations. La solution trouvée sera donc proche de la vérité physique.\n",
    "\n",
    "Cependant, la deuxième méthode contient l'équation $(2)$ dans ses contraintes. On est donc assurés que **celle-ci sera respectée, et pas seulement approximée**. L'équation $(4)$ est une condition de stationnarité : en nous approchant du minimum, on trouvera une solution proche de cette condition.\n",
    "\n",
    "Pour résumer :\n",
    "* la deuxième méthode nous assure qu'une des deux conditions sera respectée. L'autre est approximée.\n",
    "* dans la première méthode, les deux conditions sont approximées.\n",
    "\n",
    "### $\\bullet$ Conditions initiales\n",
    "\n",
    "La première méthode contient les conditions initiales dans ses contraintes : on est donc assurés qu'elles seront respectées.\n",
    "\n",
    "Dans la deuxième méthode :\n",
    "* $f_d$ n'est pas dans les contraintes : c'est une donnée et sa valeur est simplement utilisée.\n",
    "* $p_r$ est dans la contrainte permettant de retrouver $p$.\n",
    "\n",
    "Dans tous les cas, on est donc assurés que les conditions initiales seront respectées.\n",
    "\n",
    "### $\\bullet$ A propos des pressions\n",
    "\n",
    "Dans la deuxième méthode, pour trouver $p$, on doit résoudre deux problèmes d'optimisation : le problème $(7)$ et la méthode des moindres carrés (où l'on ne sait même pas s'il y a existence ou unicité des solutions). Il se peut donc que la deuxième méthode ne nous donne pas de solution en pression satisfaisante.\n",
    "\n",
    "Ce phénomène n'intervient pas dans le premier problème."
   ]
  },
  {
   "cell_type": "markdown",
   "id": "critical-jungle",
   "metadata": {},
   "source": [
    "## Partie II"
   ]
  },
  {
   "cell_type": "markdown",
   "id": "apart-alexandria",
   "metadata": {},
   "source": [
    "## Question 6 : méthodes de résolution pour les deux problèmes d'optimisation"
   ]
  },
  {
   "cell_type": "markdown",
   "id": "aggregate-skiing",
   "metadata": {},
   "source": [
    "On peut dans les deux cas envisager d'utiliser une version modifiée de l'algorithme d'Arrow-Hurwicz où les conditions sont doublées et de signe différents pour avoir l'égalité, et où gradients et jacobiens sont approchés.\n",
    "Une autre solution consisterait à implémenter l'algorithme d’élimination des variables pour contraintes linéaires.\n",
    "\n",
    "On peut aussi utiliser une méthode primal-dual de point intérieur utilisant des recherches basées sur des méthode de filtre comme ceux de Fletcher et Leyffer. \n",
    "Une telle méthode fait intervenir les multiplicateurs de Lagrange une fonction barrière :\n",
    "$$\n",
    "B(x,\\mu) = f(x) + \\mu\\sum_{i=1}^mlog(c_i(x))\n",
    "$$\n",
    "Où $\\mu$ est un scaliare positif et $c_i$ les contraintes. En annulant le gradient de la fonction barrière, on s'assure que $f(x)$ réside dans l'espace de l'opposé des gradients des contraintes, ce qui se rapproche des conditions de KKT.\n",
    "\n",
    "Autrement dit, on peut utiliser la librairie IPOPT (Interior Point OPTimizer).\n",
    "\n",
    "\n",
    "Dans la pratique, on préférera uriliser la librairie IPOPT déjà implémentée par Casadi pour simplifier les calculs"
   ]
  },
  {
   "cell_type": "markdown",
   "id": "finnish-savings",
   "metadata": {},
   "source": [
    "## Question 7 : algorithme de résolution du premier problème d'optimisation"
   ]
  },
  {
   "cell_type": "markdown",
   "id": "middle-fellowship",
   "metadata": {},
   "source": [
    "### $\\bullet$ Implémentation de l'algorithme"
   ]
  },
  {
   "cell_type": "markdown",
   "id": "fluid-franklin",
   "metadata": {},
   "source": [
    "On choisit d'utiliser le module `casadi` avec le logiciel d'optimisation `ipopt`."
   ]
  },
  {
   "cell_type": "code",
   "execution_count": 3,
   "id": "express-tower",
   "metadata": {},
   "outputs": [],
   "source": [
    "opti1 = casadi.Opti()\n",
    "\n",
    "# Récupération de la variable z\n",
    "n = 2*m + l\n",
    "z = opti1.variable(n)\n",
    "\n",
    "# Définition de la fonction coût\n",
    "f = casadi.norm_2(casadi.mtimes(A,z[2*m:])-z[m:2*m])**2 + casadi.norm_2(r*z[2*m:]*casadi.fabs(z[2*m:]) - casadi.mtimes(A.T,z[0:m]))**2\n",
    "opti1.minimize(f)\n",
    "\n",
    "# Définition des contraintes égalités\n",
    "opti1.subject_to(z[0:mr] == pr)\n",
    "opti1.subject_to(z[m+mr:2*m] == fd)\n",
    "\n",
    "# Définition de la valeur initiale\n",
    "z0 = np.ones(n)\n",
    "opti1.set_initial(z,z0)\n",
    "\n",
    "# Définition du logiciel de résolution\n",
    "opti1.solver('ipopt')"
   ]
  },
  {
   "cell_type": "code",
   "execution_count": 4,
   "id": "confused-shipping",
   "metadata": {
    "scrolled": false
   },
   "outputs": [
    {
     "name": "stdout",
     "output_type": "stream",
     "text": [
      "\n",
      "******************************************************************************\n",
      "This program contains Ipopt, a library for large-scale nonlinear optimization.\n",
      " Ipopt is released as open source code under the Eclipse Public License (EPL).\n",
      "         For more information visit https://github.com/coin-or/Ipopt\n",
      "******************************************************************************\n",
      "\n",
      "This is Ipopt version 3.13.4, running with linear solver mumps.\n",
      "NOTE: Other linear solvers might be more efficient (see Ipopt documentation).\n",
      "\n",
      "Number of nonzeros in equality constraint Jacobian...:        5\n",
      "Number of nonzeros in inequality constraint Jacobian.:        0\n",
      "Number of nonzeros in Lagrangian Hessian.............:      128\n",
      "\n",
      "Total number of variables............................:       17\n",
      "                     variables with only lower bounds:        0\n",
      "                variables with lower and upper bounds:        0\n",
      "                     variables with only upper bounds:        0\n",
      "Total number of equality constraints.................:        5\n",
      "Total number of inequality constraints...............:        0\n",
      "        inequality constraints with only lower bounds:        0\n",
      "   inequality constraints with lower and upper bounds:        0\n",
      "        inequality constraints with only upper bounds:        0\n",
      "\n",
      "iter    objective    inf_pr   inf_du lg(mu)  ||d||  lg(rg) alpha_du alpha_pr  ls\n",
      "   0  2.0302230e+06 1.04e+02 1.00e+02  -1.0 0.00e+00    -  0.00e+00 0.00e+00   0\n",
      "   1  5.9244561e+06 4.16e-17 3.70e+01  -1.0 8.95e+02    -  1.00e+00 1.00e+00h  1\n",
      "   2  1.4377799e+06 0.00e+00 1.79e+02  -1.0 2.02e+03    -  1.00e+00 1.00e+00f  1\n",
      "   3  6.4022565e+02 0.00e+00 1.95e+00  -1.0 8.36e+02    -  1.00e+00 1.00e+00f  1\n",
      "   4  4.3822758e+02 0.00e+00 4.09e-03  -1.0 9.20e-02  -4.0 1.00e+00 1.00e+00f  1\n",
      "   5  4.2359497e+02 0.00e+00 1.71e-01  -3.8 1.46e+04    -  1.00e+00 7.81e-03f  8\n",
      "   6  4.2001140e+02 0.00e+00 1.35e-01  -3.8 2.29e+02    -  1.00e+00 2.50e-01f  3\n",
      "   7  3.9015456e+02 0.00e+00 4.37e-01  -3.8 1.35e+02    -  1.00e+00 1.00e+00f  1\n",
      "   8  3.6972276e+02 0.00e+00 2.18e-01  -3.8 8.59e+01    -  1.00e+00 5.00e-01f  2\n",
      "   9  3.4100426e+02 0.00e+00 1.39e-01  -3.8 8.15e+01    -  1.00e+00 1.00e+00f  1\n",
      "iter    objective    inf_pr   inf_du lg(mu)  ||d||  lg(rg) alpha_du alpha_pr  ls\n",
      "  10  3.3414668e+02 0.00e+00 8.19e-02  -3.8 1.02e+02    -  1.00e+00 5.00e-01f  2\n",
      "  11  3.0750459e+02 0.00e+00 2.40e-01  -3.8 1.16e+02    -  1.00e+00 1.00e+00f  1\n",
      "  12  2.9769402e+02 0.00e+00 1.20e-01  -3.8 8.32e+01    -  1.00e+00 5.00e-01f  2\n",
      "  13  2.7626455e+02 0.00e+00 1.62e-01  -3.8 9.66e+01    -  1.00e+00 1.00e+00f  1\n",
      "  14  2.6729516e+02 0.00e+00 8.48e-02  -3.8 6.96e+01    -  1.00e+00 5.00e-01f  2\n",
      "  15  2.5217380e+02 0.00e+00 1.82e-01  -3.8 1.07e+02    -  1.00e+00 1.00e+00f  1\n",
      "  16  2.4225208e+02 0.00e+00 5.83e-02  -3.8 6.13e+01    -  1.00e+00 1.00e+00f  1\n",
      "  17  2.3809771e+02 0.00e+00 3.60e-01  -3.8 1.50e+02    -  1.00e+00 1.00e+00f  1\n",
      "  18  2.0979430e+02 0.00e+00 2.09e-02  -3.8 3.31e+01    -  1.00e+00 1.00e+00f  1\n",
      "  19  2.0573487e+02 0.00e+00 2.32e-01  -3.8 4.79e+02    -  1.00e+00 2.50e-01f  3\n",
      "iter    objective    inf_pr   inf_du lg(mu)  ||d||  lg(rg) alpha_du alpha_pr  ls\n",
      "  20  1.9043077e+02 0.00e+00 2.36e-02  -3.8 3.59e+01    -  1.00e+00 1.00e+00f  1\n",
      "  21  1.8446318e+02 0.00e+00 1.50e-01  -3.8 3.68e+02    -  1.00e+00 2.50e-01f  3\n",
      "  22  1.7513438e+02 0.00e+00 7.42e-02  -3.8 6.62e+01    -  1.00e+00 1.00e+00f  1\n",
      "  23  1.6851823e+02 0.00e+00 2.17e-01  -3.8 1.15e+02    -  1.00e+00 1.00e+00f  1\n",
      "  24  1.5835499e+02 0.00e+00 4.22e-02  -3.8 4.74e+01    -  1.00e+00 1.00e+00f  1\n",
      "  25  1.5519250e+02 0.00e+00 7.88e-02  -3.8 2.11e+02    -  1.00e+00 2.50e-01f  3\n",
      "  26  1.5077701e+02 0.00e+00 1.86e-01  -3.8 1.03e+02    -  1.00e+00 1.00e+00f  1\n",
      "  27  1.4087047e+02 0.00e+00 5.15e-02  -3.8 5.18e+01    -  1.00e+00 1.00e+00f  1\n",
      "  28  1.3642513e+02 0.00e+00 9.13e-02  -3.8 2.18e+02    -  1.00e+00 2.50e-01f  3\n",
      "  29  1.3027493e+02 0.00e+00 1.08e-01  -3.8 7.66e+01    -  1.00e+00 1.00e+00f  1\n",
      "iter    objective    inf_pr   inf_du lg(mu)  ||d||  lg(rg) alpha_du alpha_pr  ls\n",
      "  30  1.2499364e+02 0.00e+00 1.05e-01  -3.8 7.45e+01    -  1.00e+00 1.00e+00f  1\n",
      "  31  1.2152660e+02 0.00e+00 1.69e-01  -3.8 8.83e+01    -  1.00e+00 1.00e+00f  1\n",
      "  32  1.1406003e+02 0.00e+00 6.89e-02  -3.8 5.77e+01    -  1.00e+00 1.00e+00f  1\n",
      "  33  1.1306292e+02 0.00e+00 1.66e-01  -3.8 1.64e+02    -  1.00e+00 5.00e-01f  2\n",
      "  34  1.0123641e+02 0.00e+00 1.99e-02  -3.8 2.88e+01    -  1.00e+00 1.00e+00f  1\n",
      "  35  9.8357344e+01 0.00e+00 1.14e-01  -3.8 2.80e+02    -  1.00e+00 2.50e-01f  3\n",
      "  36  9.2800835e+01 0.00e+00 4.54e-02  -3.8 4.50e+01    -  1.00e+00 1.00e+00f  1\n",
      "  37  8.9854343e+01 0.00e+00 9.17e-02  -3.8 1.14e+02    -  1.00e+00 5.00e-01f  2\n",
      "  38  8.5158465e+01 0.00e+00 5.68e-02  -3.8 4.99e+01    -  1.00e+00 1.00e+00f  1\n",
      "  39  8.3954736e+01 0.00e+00 1.45e-01  -3.8 8.09e+01    -  1.00e+00 1.00e+00f  1\n",
      "iter    objective    inf_pr   inf_du lg(mu)  ||d||  lg(rg) alpha_du alpha_pr  ls\n",
      "  40  7.6546703e+01 0.00e+00 2.95e-02  -3.8 3.18e+01    -  1.00e+00 1.00e+00f  1\n",
      "  41  7.4417031e+01 0.00e+00 5.23e-02  -3.8 1.49e+02    -  1.00e+00 2.50e-01f  3\n",
      "  42  7.1250946e+01 0.00e+00 8.96e-02  -3.8 6.13e+01    -  1.00e+00 1.00e+00f  1\n",
      "  43  6.6945699e+01 0.00e+00 3.61e-02  -3.8 3.71e+01    -  1.00e+00 1.00e+00f  1\n",
      "  44  6.4699532e+01 0.00e+00 7.65e-02  -3.8 9.75e+01    -  1.00e+00 5.00e-01f  2\n",
      "  45  6.0723446e+01 0.00e+00 3.16e-02  -3.8 3.40e+01    -  1.00e+00 1.00e+00f  1\n",
      "  46  5.8545218e+01 0.00e+00 6.52e-02  -3.8 8.77e+01    -  1.00e+00 5.00e-01f  2\n",
      "  47  5.5078727e+01 0.00e+00 3.80e-02  -3.8 3.68e+01    -  1.00e+00 1.00e+00f  1\n",
      "  48  5.2992661e+01 0.00e+00 4.75e-02  -3.8 6.46e+01    -  1.00e+00 5.00e-01f  2\n",
      "  49  5.0056309e+01 0.00e+00 5.27e-02  -3.8 4.32e+01    -  1.00e+00 1.00e+00f  1\n",
      "iter    objective    inf_pr   inf_du lg(mu)  ||d||  lg(rg) alpha_du alpha_pr  ls\n",
      "  50  4.7137229e+01 0.00e+00 4.13e-02  -3.8 3.74e+01    -  1.00e+00 1.00e+00f  1\n",
      "  51  4.4828664e+01 0.00e+00 6.03e-02  -3.8 4.52e+01    -  1.00e+00 1.00e+00f  1\n",
      "  52  4.1683281e+01 0.00e+00 3.02e-02  -3.8 2.98e+01    -  1.00e+00 1.00e+00f  1\n",
      "  53  4.0454568e+01 0.00e+00 4.31e-02  -3.8 6.11e+01    -  1.00e+00 5.00e-01f  2\n",
      "  54  3.7702629e+01 0.00e+00 4.26e-02  -3.8 3.48e+01    -  1.00e+00 1.00e+00f  1\n",
      "  55  3.7087288e+01 0.00e+00 4.79e-02  -3.8 3.81e+01    -  1.00e+00 1.00e+00f  1\n",
      "  56  3.3278686e+01 0.00e+00 5.14e-02  -3.8 3.53e+01    -  1.00e+00 1.00e+00f  1\n",
      "  57  3.1955927e+01 0.00e+00 3.26e-02  -3.8 2.99e+01    -  1.00e+00 1.00e+00f  1\n",
      "  58  2.9375583e+01 0.00e+00 3.51e-02  -3.8 4.55e+01    -  1.00e+00 5.00e-01f  2\n",
      "  59  2.7006209e+01 0.00e+00 2.10e-02  -3.8 2.28e+01    -  1.00e+00 1.00e+00f  1\n",
      "iter    objective    inf_pr   inf_du lg(mu)  ||d||  lg(rg) alpha_du alpha_pr  ls\n",
      "  60  2.5817513e+01 0.00e+00 2.65e-02  -3.8 4.17e+01    -  1.00e+00 5.00e-01f  2\n",
      "  61  2.4082848e+01 0.00e+00 2.95e-02  -3.8 2.74e+01    -  1.00e+00 1.00e+00f  1\n",
      "  62  2.2408820e+01 0.00e+00 2.40e-02  -3.8 2.41e+01    -  1.00e+00 1.00e+00f  1\n",
      "  63  2.1688960e+01 0.00e+00 4.79e-02  -3.8 3.17e+01    -  1.00e+00 1.00e+00f  1\n",
      "  64  1.8856891e+01 0.00e+00 9.89e-03  -3.8 1.40e+01    -  1.00e+00 1.00e+00f  1\n",
      "  65  1.7854907e+01 0.00e+00 2.02e-02  -3.8 6.88e+01    -  1.00e+00 2.50e-01f  3\n",
      "  66  1.6378421e+01 0.00e+00 1.78e-02  -3.8 1.95e+01    -  1.00e+00 1.00e+00f  1\n",
      "  67  1.5196625e+01 0.00e+00 2.50e-02  -3.8 2.30e+01    -  1.00e+00 1.00e+00f  1\n",
      "  68  1.3742432e+01 0.00e+00 1.21e-02  -3.8 1.50e+01    -  1.00e+00 1.00e+00f  1\n",
      "  69  1.3055428e+01 0.00e+00 1.71e-02  -3.8 2.99e+01    -  1.00e+00 5.00e-01f  2\n",
      "iter    objective    inf_pr   inf_du lg(mu)  ||d||  lg(rg) alpha_du alpha_pr  ls\n",
      "  70  1.1891917e+01 0.00e+00 1.74e-02  -3.8 1.76e+01    -  1.00e+00 1.00e+00f  1\n",
      "  71  1.1099738e+01 0.00e+00 1.64e-02  -3.8 1.72e+01    -  1.00e+00 1.00e+00f  1\n",
      "  72  1.0053580e+01 0.00e+00 2.32e-02  -3.8 1.86e+01    -  1.00e+00 1.00e+00f  1\n",
      "  73  8.8075879e+00 0.00e+00 8.01e-03  -3.8 1.10e+01    -  1.00e+00 1.00e+00f  1\n",
      "  74  8.2166744e+00 0.00e+00 1.76e-02  -3.8 3.04e+01    -  1.00e+00 5.00e-01f  2\n",
      "  75  7.1083982e+00 0.00e+00 3.72e-03  -3.8 6.91e+00    -  1.00e+00 1.00e+00f  1\n",
      "  76  6.8338897e+00 0.00e+00 2.03e-02  -3.8 3.47e+01    -  1.00e+00 5.00e-01f  2\n",
      "  77  5.7145379e+00 0.00e+00 2.49e-03  -3.8 5.02e+00    -  1.00e+00 1.00e+00f  1\n",
      "  78  5.2620688e+00 0.00e+00 8.69e-03  -3.8 4.02e+01    -  1.00e+00 2.50e-01f  3\n",
      "  79  4.6390497e+00 0.00e+00 8.04e-03  -3.8 1.03e+01    -  1.00e+00 1.00e+00f  1\n",
      "iter    objective    inf_pr   inf_du lg(mu)  ||d||  lg(rg) alpha_du alpha_pr  ls\n",
      "  80  4.0740016e+00 0.00e+00 7.28e-03  -3.8 9.53e+00    -  1.00e+00 1.00e+00f  1\n",
      "  81  3.5531963e+00 0.00e+00 6.81e-03  -3.8 9.01e+00    -  1.00e+00 1.00e+00f  1\n",
      "  82  3.0953620e+00 0.00e+00 6.24e-03  -3.8 8.40e+00    -  1.00e+00 1.00e+00f  1\n",
      "  83  2.7029212e+00 0.00e+00 5.81e-03  -3.8 7.90e+00    -  1.00e+00 1.00e+00f  1\n",
      "  84  2.3602989e+00 0.00e+00 7.50e-03  -3.8 8.21e+00    -  1.00e+00 1.00e+00f  1\n",
      "  85  1.9242572e+00 0.00e+00 3.21e-03  -3.8 5.34e+00    -  1.00e+00 1.00e+00f  1\n",
      "  86  1.6706426e+00 0.00e+00 4.80e-03  -3.8 1.12e+01    -  1.00e+00 5.00e-01f  2\n",
      "  87  1.3456738e+00 0.00e+00 1.80e-03  -3.8 3.75e+00    -  1.00e+00 1.00e+00f  1\n",
      "  88  1.1725171e+00 0.00e+00 3.52e-03  -3.8 9.76e+00    -  1.00e+00 5.00e-01f  2\n",
      "  89  9.4149497e-01 0.00e+00 2.30e-03  -3.8 4.21e+00    -  1.00e+00 1.00e+00f  1\n",
      "iter    objective    inf_pr   inf_du lg(mu)  ||d||  lg(rg) alpha_du alpha_pr  ls\n",
      "  90  7.7223983e-01 0.00e+00 3.48e-03  -3.8 5.25e+00    -  1.00e+00 1.00e+00f  1\n",
      "  91  5.8430054e-01 0.00e+00 1.09e-03  -3.8 2.56e+00    -  1.00e+00 1.00e+00f  1\n",
      "  92  4.8665927e-01 0.00e+00 2.04e-03  -5.7 6.65e+00    -  1.00e+00 5.00e-01f  2\n",
      "  93  3.6235731e-01 0.00e+00 1.36e-03  -5.7 2.90e+00    -  1.00e+00 1.00e+00f  1\n",
      "  94  2.7128082e-01 0.00e+00 1.76e-03  -5.7 3.34e+00    -  1.00e+00 1.00e+00f  1\n",
      "  95  1.8335186e-01 0.00e+00 6.94e-04  -5.7 1.88e+00    -  1.00e+00 1.00e+00f  1\n",
      "  96  1.5845833e-01 0.00e+00 1.92e-03  -5.7 3.40e+00    -  1.00e+00 1.00e+00f  1\n",
      "  97  7.3701477e-02 0.00e+00 2.24e-04  -5.7 7.97e-01    -  1.00e+00 1.00e+00f  1\n",
      "  98  5.0743438e-02 0.00e+00 7.27e-04  -5.7 3.67e+00    -  1.00e+00 5.00e-01f  2\n",
      "  99  2.5218718e-02 0.00e+00 2.33e-04  -5.7 9.77e-01    -  1.00e+00 1.00e+00f  1\n",
      "iter    objective    inf_pr   inf_du lg(mu)  ||d||  lg(rg) alpha_du alpha_pr  ls\n",
      " 100  1.4171013e-02 0.00e+00 5.20e-04  -5.7 1.58e+00    -  1.00e+00 1.00e+00f  1\n",
      " 101  3.7636834e-03 0.00e+00 6.20e-05  -5.7 4.49e-01    -  1.00e+00 1.00e+00f  1\n",
      " 102  1.2822904e-03 0.00e+00 1.81e-04  -5.7 9.00e-01    -  1.00e+00 1.00e+00f  1\n",
      " 103  7.7974350e-05 0.00e+00 7.13e-06  -5.7 1.36e-01    -  1.00e+00 1.00e+00f  1\n",
      " 104  1.5806659e-06 0.00e+00 6.30e-06  -8.6 1.62e-01    -  1.00e+00 1.00e+00f  1\n",
      " 105  2.2149281e-10 0.00e+00 1.25e-08  -8.6 5.95e-03    -  1.00e+00 1.00e+00f  1\n",
      " 106  1.5226190e-17 0.00e+00 1.85e-11  -9.6 2.76e-04    -  1.00e+00 1.00e+00f  1\n",
      "\n",
      "Number of Iterations....: 106\n",
      "\n",
      "                                   (scaled)                 (unscaled)\n",
      "Objective...............:   3.8065378640246734e-22    1.5226189521477334e-17\n",
      "Dual infeasibility......:   1.8474201788913916e-11    7.3896991897673548e-07\n",
      "Constraint violation....:   0.0000000000000000e+00    0.0000000000000000e+00\n",
      "Complementarity.........:   0.0000000000000000e+00    0.0000000000000000e+00\n",
      "Overall NLP error.......:   1.8474201788913916e-11    7.3896991897673548e-07\n",
      "\n",
      "\n",
      "Number of objective function evaluations             = 186\n",
      "Number of objective gradient evaluations             = 107\n",
      "Number of equality constraint evaluations            = 186\n",
      "Number of inequality constraint evaluations          = 0\n",
      "Number of equality constraint Jacobian evaluations   = 107\n",
      "Number of inequality constraint Jacobian evaluations = 0\n",
      "Number of Lagrangian Hessian evaluations             = 106\n",
      "Total CPU secs in IPOPT (w/o function evaluations)   =      0.359\n",
      "Total CPU secs in NLP function evaluations           =      0.010\n",
      "\n",
      "EXIT: Optimal Solution Found.\n",
      "      solver  :   t_proc      (avg)   t_wall      (avg)    n_eval\n",
      "       nlp_f  |        0 (       0) 977.40us (  5.25us)       186\n",
      "       nlp_g  |        0 (       0) 642.90us (  3.46us)       186\n",
      "  nlp_grad_f  |   1.00ms (  9.26us) 808.60us (  7.49us)       108\n",
      "  nlp_hess_l  |   7.00ms ( 66.04us)   5.86ms ( 55.24us)       106\n",
      "   nlp_jac_g  |        0 (       0) 291.50us (  2.70us)       108\n",
      "       total  | 371.00ms (371.00ms) 370.82ms (370.82ms)         1\n"
     ]
    }
   ],
   "source": [
    "# Résolution\n",
    "sol1 = opti1.solve()"
   ]
  },
  {
   "cell_type": "code",
   "execution_count": 5,
   "id": "mediterranean-decline",
   "metadata": {},
   "outputs": [
    {
     "name": "stdout",
     "output_type": "stream",
     "text": [
      "\n",
      "==Affichage des résultats (problème 1)==\n",
      "\n",
      "-->Pressions :\n",
      "    - pressions aux réservoirs : [105. 104.]\n",
      "    - pressions aux demandes   : [108.69167351 114.93646695 114.90807311]\n",
      "-->Flux :\n",
      "    - flux aux réservoirs      : [-1.18895557 -0.32104443]\n",
      "    - flux aux demandes        : [0.08 1.3  0.13]\n",
      "-->Débits :\n",
      "[ 0.19213728  0.99681829  0.10444172  0.21660271  0.24989585 -0.05328587\n",
      "  0.07884415]\n",
      "\n",
      "==Fin de l'affichage des résultats==\n",
      "\n"
     ]
    }
   ],
   "source": [
    "# Affichage des résultats\n",
    "\n",
    "zsol = sol1.value(z)\n",
    "\n",
    "p1 = zsol[:m]\n",
    "f1 = zsol[m:2*m]\n",
    "q1 = zsol[2*m:]\n",
    "\n",
    "print(\"\\n==Affichage des résultats (problème 1)==\\n\")\n",
    "print(\"-->Pressions :\")\n",
    "print(\"    - pressions aux réservoirs :\", p1[0:mr])\n",
    "print(\"    - pressions aux demandes   :\", p1[mr:])\n",
    "print(\"-->Flux :\")\n",
    "print(\"    - flux aux réservoirs      :\", f1[:mr])\n",
    "print(\"    - flux aux demandes        :\", f1[mr:])\n",
    "print(\"-->Débits :\")\n",
    "print(q1)\n",
    "print(\"\\n==Fin de l'affichage des résultats==\\n\")"
   ]
  },
  {
   "cell_type": "markdown",
   "id": "supposed-column",
   "metadata": {},
   "source": [
    "### $\\bullet$ Quelques commentaires sur les résultats :"
   ]
  },
  {
   "cell_type": "markdown",
   "id": "vietnamese-circus",
   "metadata": {},
   "source": [
    "Remarquons que :\n",
    "* les conditions initiales sont bien respectées (pressions aux réservoirs et flux aux demandes) (conformément à ce que l'on avait commenté à la question 5)\n",
    "* les flux calculés aux réservoirs sont négatifs, ce qui correspond à la convention choisie.\n",
    "\n",
    "Vérifions que les conditions physiques (*ie* les équations $(2)$ et $(4)$) sont respectées :"
   ]
  },
  {
   "cell_type": "code",
   "execution_count": 6,
   "id": "round-fighter",
   "metadata": {},
   "outputs": [
    {
     "name": "stdout",
     "output_type": "stream",
     "text": [
      "-->Valeur de ||Aq-f||        : 1.156783582076316e-09\n",
      "-->Valeur de ||A^T - r*q*q|| : 3.726666237877904e-09\n"
     ]
    }
   ],
   "source": [
    "print(\"-->Valeur de ||Aq-f||        :\", np.linalg.norm(np.dot(A, q1) - f1))\n",
    "print(\"-->Valeur de ||A^T - r*q*q|| :\", np.linalg.norm(np.dot(A.T, p1) - r*q1*np.abs(q1)))"
   ]
  },
  {
   "cell_type": "markdown",
   "id": "apparent-southeast",
   "metadata": {},
   "source": [
    "On peut considérer qu'elles sont respectées (les valeurs sont petites devant les ordres de grandeur en jeu). La solution est donc physiquement admissible."
   ]
  },
  {
   "cell_type": "markdown",
   "id": "broad-movement",
   "metadata": {},
   "source": [
    "Ces résultats seront davantage discutés, et mis en regard avec la méthode de résolution suivante, à la question 9."
   ]
  },
  {
   "cell_type": "markdown",
   "id": "operational-surfing",
   "metadata": {},
   "source": [
    "## Question 8 : algorithme de résolution du deuxième problème d'optimisation"
   ]
  },
  {
   "cell_type": "markdown",
   "id": "instrumental-newton",
   "metadata": {},
   "source": [
    "### $\\bullet$ Implémentation de l'algorithme"
   ]
  },
  {
   "cell_type": "markdown",
   "id": "frequent-disposal",
   "metadata": {},
   "source": [
    "On choisit également d'utiliser le module `casadi` avec le logiciel d'optimisation `ipopt`."
   ]
  },
  {
   "cell_type": "code",
   "execution_count": 7,
   "id": "indonesian-aircraft",
   "metadata": {},
   "outputs": [],
   "source": [
    "opti2 = casadi.Opti()\n",
    "\n",
    "# Récupération de la variable y=(q, f_r)\n",
    "n = l + mr\n",
    "y = opti2.variable(n)\n",
    "    \n",
    "# Définition de la fonction coût\n",
    "f = (1/3)*casadi.dot(y[0:l],r*y[0:l]*casadi.fabs(y[0:l])) + casadi.dot(pr,y[l::])\n",
    "opti2.minimize(f)\n",
    "\n",
    "# Définition de la contrainte égalité\n",
    "opti2.subject_to(casadi.mtimes(A,y[0:l]) - (casadi.vertcat(y[l::],fd))== 0)\n",
    "\n",
    "# Définition de la valeur initiale\n",
    "y0 = np.ones(n)\n",
    "opti2.set_initial(y,y0)\n",
    "\n",
    "# Définition du logiciel de résolution\n",
    "opti2.solver('ipopt')"
   ]
  },
  {
   "cell_type": "code",
   "execution_count": 8,
   "id": "split-resort",
   "metadata": {},
   "outputs": [
    {
     "name": "stdout",
     "output_type": "stream",
     "text": [
      "This is Ipopt version 3.13.4, running with linear solver mumps.\n",
      "NOTE: Other linear solvers might be more efficient (see Ipopt documentation).\n",
      "\n",
      "Number of nonzeros in equality constraint Jacobian...:       37\n",
      "Number of nonzeros in inequality constraint Jacobian.:        0\n",
      "Number of nonzeros in Lagrangian Hessian.............:        7\n",
      "\n",
      "Total number of variables............................:        9\n",
      "                     variables with only lower bounds:        0\n",
      "                variables with lower and upper bounds:        0\n",
      "                     variables with only upper bounds:        0\n",
      "Total number of equality constraints.................:        5\n",
      "Total number of inequality constraints...............:        0\n",
      "        inequality constraints with only lower bounds:        0\n",
      "   inequality constraints with lower and upper bounds:        0\n",
      "        inequality constraints with only upper bounds:        0\n",
      "\n",
      "iter    objective    inf_pr   inf_du lg(mu)  ||d||  lg(rg) alpha_du alpha_pr  ls\n",
      "   0  9.8233333e+02 3.00e+00 4.21e+01  -1.0 0.00e+00    -  0.00e+00 0.00e+00   0\n",
      "   1 -6.9826263e+01 3.33e-16 2.69e+01  -1.0 1.98e+00    -  1.00e+00 1.00e+00f  1\n",
      "   2 -1.4572837e+02 2.22e-16 5.81e+00  -1.0 7.20e-01    -  1.00e+00 1.00e+00f  1\n",
      "   3 -1.5280519e+02 5.55e-17 1.23e+00  -1.0 2.17e-01    -  1.00e+00 1.00e+00f  1\n",
      "   4 -1.5331360e+02 1.39e-17 1.88e-01  -1.0 7.87e-02    -  1.00e+00 1.00e+00f  1\n",
      "   5 -1.5332611e+02 4.16e-17 8.73e-03  -2.5 1.46e-02    -  1.00e+00 1.00e+00f  1\n",
      "   6 -1.5332613e+02 2.78e-17 2.43e-05  -3.8 6.00e-04    -  1.00e+00 1.00e+00f  1\n",
      "   7 -1.5332613e+02 2.22e-16 1.95e-10  -5.7 1.40e-06    -  1.00e+00 1.00e+00h  1\n",
      "\n",
      "Number of Iterations....: 7\n",
      "\n",
      "                                   (scaled)                 (unscaled)\n",
      "Objective...............:  -1.5332612885128047e+01   -1.5332612885128046e+02\n",
      "Dual infeasibility......:   1.9460433264839594e-10    1.9460433264839594e-09\n",
      "Constraint violation....:   2.2204460492503131e-16    2.2204460492503131e-16\n",
      "Complementarity.........:   0.0000000000000000e+00    0.0000000000000000e+00\n",
      "Overall NLP error.......:   1.9460433264839594e-10    1.9460433264839594e-09\n",
      "\n",
      "\n",
      "Number of objective function evaluations             = 8\n",
      "Number of objective gradient evaluations             = 8\n",
      "Number of equality constraint evaluations            = 8\n",
      "Number of inequality constraint evaluations          = 0\n",
      "Number of equality constraint Jacobian evaluations   = 8\n",
      "Number of inequality constraint Jacobian evaluations = 0\n",
      "Number of Lagrangian Hessian evaluations             = 7\n",
      "Total CPU secs in IPOPT (w/o function evaluations)   =      0.027\n",
      "Total CPU secs in NLP function evaluations           =      0.000\n",
      "\n",
      "EXIT: Optimal Solution Found.\n",
      "      solver  :   t_proc      (avg)   t_wall      (avg)    n_eval\n",
      "       nlp_f  |        0 (       0)  38.20us (  4.77us)         8\n",
      "       nlp_g  |        0 (       0)  76.80us (  9.60us)         8\n",
      "  nlp_grad_f  |        0 (       0) 103.40us ( 11.49us)         9\n",
      "  nlp_hess_l  |        0 (       0)  39.00us (  5.57us)         7\n",
      "   nlp_jac_g  |   1.00ms (111.11us) 149.70us ( 16.63us)         9\n",
      "       total  |  28.00ms ( 28.00ms)  28.43ms ( 28.43ms)         1\n"
     ]
    }
   ],
   "source": [
    "# Résolution du problème 2 (il reste à trouver p)\n",
    "sol2 = opti2.solve()\n",
    "ysol = sol2.value(y)"
   ]
  },
  {
   "cell_type": "code",
   "execution_count": 9,
   "id": "ideal-weapon",
   "metadata": {},
   "outputs": [],
   "source": [
    "# Problème suivant : trouver p (moindres carrés)\n",
    "opti3 = casadi.Opti()\n",
    "\n",
    "# Récupération de la variable p\n",
    "n = m\n",
    "p = opti3.variable(n)\n",
    "    \n",
    "# Définition de la fonction coût\n",
    "q = ysol[0:l]\n",
    "b = r*q*casadi.fabs(q)\n",
    "f = casadi.norm_2(casadi.mtimes(A.T,p)-b)\n",
    "opti3.minimize(f)\n",
    "\n",
    "# Définition de la contrainte égalité\n",
    "opti3.subject_to(p[0:mr] == pr)\n",
    "\n",
    "# Définition de la valeur initiale\n",
    "p0 = np.ones(n)\n",
    "opti3.set_initial(p,p0)\n",
    "\n",
    "# Définition du logiciel de résolution\n",
    "opti3.solver('ipopt')"
   ]
  },
  {
   "cell_type": "code",
   "execution_count": 10,
   "id": "brazilian-height",
   "metadata": {},
   "outputs": [
    {
     "name": "stdout",
     "output_type": "stream",
     "text": [
      "This is Ipopt version 3.13.4, running with linear solver mumps.\n",
      "NOTE: Other linear solvers might be more efficient (see Ipopt documentation).\n",
      "\n",
      "Number of nonzeros in equality constraint Jacobian...:        2\n",
      "Number of nonzeros in inequality constraint Jacobian.:        0\n",
      "Number of nonzeros in Lagrangian Hessian.............:       15\n",
      "\n",
      "Total number of variables............................:        5\n",
      "                     variables with only lower bounds:        0\n",
      "                variables with lower and upper bounds:        0\n",
      "                     variables with only upper bounds:        0\n",
      "Total number of equality constraints.................:        2\n",
      "Total number of inequality constraints...............:        0\n",
      "        inequality constraints with only lower bounds:        0\n",
      "   inequality constraints with lower and upper bounds:        0\n",
      "        inequality constraints with only upper bounds:        0\n",
      "\n",
      "iter    objective    inf_pr   inf_du lg(mu)  ||d||  lg(rg) alpha_du alpha_pr  ls\n",
      "   0  1.7114980e+01 1.04e+02 9.45e-01  -1.0 0.00e+00    -  0.00e+00 0.00e+00   0\n",
      "   1  5.6868161e+03 0.00e+00 1.79e+01  -1.0 3.42e+03    -  1.00e+00 1.00e+00h  1\n",
      "   2  5.7715605e+02 0.00e+00 1.79e+01  -1.0 3.06e+10    -  1.00e+00 1.19e-07f 24\n",
      "   3  2.6101863e+02 0.00e+00 1.79e+01  -1.0 3.19e+07    -  1.00e+00 1.53e-05f 17\n",
      "   4  4.9133428e+01 0.00e+00 1.79e+01  -1.0 2.96e+06    -  1.00e+00 6.10e-05f 15\n",
      "   5  1.7146692e+01 0.00e+00 1.78e+01  -1.0 1.97e+04    -  1.00e+00 1.95e-03f 10\n",
      "   6  5.6460039e+00 0.00e+00 1.75e+01  -1.0 8.33e+02    -  1.00e+00 1.56e-02f  7\n",
      "   7  2.0110102e+00 0.00e+00 1.47e+01  -1.0 2.82e+01    -  1.00e+00 1.25e-01f  4\n",
      "   8  1.8743409e+00 0.00e+00 1.21e-01  -1.0 4.96e-01    -  1.00e+00 1.00e+00f  1\n",
      "   9  1.8708287e+00 0.00e+00 1.94e-03  -2.5 6.70e-02    -  1.00e+00 1.00e+00f  1\n",
      "iter    objective    inf_pr   inf_du lg(mu)  ||d||  lg(rg) alpha_du alpha_pr  ls\n",
      "  10  1.8708287e+00 0.00e+00 2.48e-08  -3.8 2.51e-04    -  1.00e+00 1.00e+00f  1\n",
      "  11  1.8708287e+00 0.00e+00 6.55e-15  -9.0 1.33e-11    -  1.00e+00 1.00e+00f  1\n",
      "\n",
      "Number of Iterations....: 11\n",
      "\n",
      "                                   (scaled)                 (unscaled)\n",
      "Objective...............:   1.8708286936372296e+00    1.8708286936372296e+00\n",
      "Dual infeasibility......:   6.5503158452884236e-15    6.5503158452884236e-15\n",
      "Constraint violation....:   0.0000000000000000e+00    0.0000000000000000e+00\n",
      "Complementarity.........:   0.0000000000000000e+00    0.0000000000000000e+00\n",
      "Overall NLP error.......:   6.5503158452884236e-15    6.5503158452884236e-15\n",
      "\n",
      "\n",
      "Number of objective function evaluations             = 92\n",
      "Number of objective gradient evaluations             = 12\n",
      "Number of equality constraint evaluations            = 92\n",
      "Number of inequality constraint evaluations          = 0\n",
      "Number of equality constraint Jacobian evaluations   = 12\n",
      "Number of inequality constraint Jacobian evaluations = 0\n",
      "Number of Lagrangian Hessian evaluations             = 11\n",
      "Total CPU secs in IPOPT (w/o function evaluations)   =      0.052\n",
      "Total CPU secs in NLP function evaluations           =      0.001\n",
      "\n",
      "EXIT: Optimal Solution Found.\n",
      "      solver  :   t_proc      (avg)   t_wall      (avg)    n_eval\n",
      "       nlp_f  |        0 (       0) 192.50us (  2.09us)        92\n",
      "       nlp_g  |        0 (       0) 155.30us (  1.69us)        92\n",
      "  nlp_grad_f  |        0 (       0)  63.50us (  4.88us)        13\n",
      "  nlp_hess_l  |        0 (       0) 141.30us ( 12.85us)        11\n",
      "   nlp_jac_g  |        0 (       0)  38.20us (  2.94us)        13\n",
      "       total  |  54.00ms ( 54.00ms)  54.55ms ( 54.55ms)         1\n"
     ]
    }
   ],
   "source": [
    "# Résolution du problème permettant de trouver p\n",
    "sol3 = opti3.solve()\n",
    "psol = sol3.value(p)"
   ]
  },
  {
   "cell_type": "code",
   "execution_count": 11,
   "id": "coral-burton",
   "metadata": {},
   "outputs": [
    {
     "name": "stdout",
     "output_type": "stream",
     "text": [
      "\n",
      "==Affichage des résultats (problème 2)==\n",
      "\n",
      "(les éléments avec * indiquent qu'ils n'ont pas été calculés et qu'il s'agit de données)\n",
      "-->Pressions :\n",
      "    - pressions aux réservoirs : [105. 104.]\n",
      "    - pressions aux demandes   : [108.47504205 114.56490545 114.0466566 ]\n",
      "-->Flux :\n",
      "    - flux aux réservoirs      : [-1.22716618 -0.28283382]\n",
      "    - flux aux demandes*       : [0.08 1.3  0.13]\n",
      "-->Débits :\n",
      "[ 0.21154295  1.01562323  0.09641917  0.18641465  0.24165809 -0.04271868\n",
      "  0.07629951]\n",
      "\n",
      "==Fin de l'affichage des résultats==\n",
      "\n"
     ]
    }
   ],
   "source": [
    "# Affichage des résultats\n",
    "\n",
    "p2 = psol\n",
    "f2 = np.concatenate( (ysol[l:], fd) )\n",
    "q2 = ysol[:l]\n",
    "\n",
    "print(\"\\n==Affichage des résultats (problème 2)==\\n\")\n",
    "print(\"(les éléments avec * indiquent qu'ils n'ont pas été calculés et qu'il s'agit de données)\")\n",
    "print(\"-->Pressions :\")\n",
    "print(\"    - pressions aux réservoirs :\", p2[:mr])\n",
    "print(\"    - pressions aux demandes   :\", p2[mr:])\n",
    "print(\"-->Flux :\")\n",
    "print(\"    - flux aux réservoirs      :\", f2[:mr])\n",
    "print(\"    - flux aux demandes*       :\", f2[mr:])\n",
    "print(\"-->Débits :\")\n",
    "print(q2)\n",
    "print(\"\\n==Fin de l'affichage des résultats==\\n\")"
   ]
  },
  {
   "cell_type": "markdown",
   "id": "cathedral-mandate",
   "metadata": {},
   "source": [
    "### $\\bullet$ Quelques commentaires concernant les résultats :"
   ]
  },
  {
   "cell_type": "markdown",
   "id": "infectious-designer",
   "metadata": {},
   "source": [
    "Remarquons à nouveau que :\n",
    "* les conditions initiales sont bien respectées (pressions aux réservoirs et flux aux demandes) (conformément à ce que l'on avait commenté à la question 5)\n",
    "* les flux calculés aux réservoirs sont négatifs, ce qui correspond à la convention choisie.\n",
    "\n",
    "Vérifions à nouveau que les conditions physiques (*ie* les équations $(2)$ et $(4)$) sont respectées :"
   ]
  },
  {
   "cell_type": "code",
   "execution_count": 12,
   "id": "naked-consistency",
   "metadata": {},
   "outputs": [
    {
     "name": "stdout",
     "output_type": "stream",
     "text": [
      "-->Valeur de ||Aq-f||          : 2.237726045655905e-16\n",
      "-->Valeur de ||A^T*p - r*q*q|| : 1.8708286936372296\n"
     ]
    }
   ],
   "source": [
    "print(\"-->Valeur de ||Aq-f||          :\", np.linalg.norm(np.dot(A, q2) - f2))\n",
    "print(\"-->Valeur de ||A^T*p - r*q*q|| :\", np.linalg.norm(np.dot(A.T, p2) - r*q2*np.abs(q2)))"
   ]
  },
  {
   "cell_type": "markdown",
   "id": "above-disco",
   "metadata": {},
   "source": [
    "On peut à nouveau considérer que la solution est physiquement réalisable (l'erreur est faible devant les valeurs de pression)."
   ]
  },
  {
   "cell_type": "markdown",
   "id": "royal-teaching",
   "metadata": {},
   "source": [
    "Ces résultats seront davantage discutés, et mis en regard avec la méthode de résolution précédente, à la question 9."
   ]
  },
  {
   "cell_type": "markdown",
   "id": "advanced-celebrity",
   "metadata": {},
   "source": [
    "## Question 9 : comparaison des résultats, étude et commentaires"
   ]
  },
  {
   "cell_type": "markdown",
   "id": "informative-bookmark",
   "metadata": {},
   "source": [
    "### $\\bullet$ Comparaison des résultats\n",
    "\n",
    "Calculons la différence relative de pressions, de flux et de débits obtenus (l'indice 1 correspond à la première méthode ; l'indice 2 à la deuxième) :"
   ]
  },
  {
   "cell_type": "code",
   "execution_count": 13,
   "id": "tamil-wound",
   "metadata": {
    "scrolled": true
   },
   "outputs": [
    {
     "name": "stdout",
     "output_type": "stream",
     "text": [
      "||p1-p2||/||p1||= 0.003928440267500656\n",
      "||f1-f2||/||f1||= 0.030067601165880777\n",
      "||q1-q2||/||q1||= 0.0403867523366248\n"
     ]
    }
   ],
   "source": [
    "# On calcule les normes des vecteurs différence\n",
    "\n",
    "p_diff = np.linalg.norm(p1-p2)/np.linalg.norm(p1)\n",
    "f_diff = np.linalg.norm(f1-f2)/np.linalg.norm(f1)\n",
    "q_diff = np.linalg.norm(q1-q2)/np.linalg.norm(q1)\n",
    "\n",
    "print(\"||p1-p2||/||p1||=\", p_diff)\n",
    "print(\"||f1-f2||/||f1||=\", f_diff)\n",
    "print(\"||q1-q2||/||q1||=\", q_diff)"
   ]
  },
  {
   "cell_type": "markdown",
   "id": "amended-start",
   "metadata": {},
   "source": [
    "Nous remarquons que les différences sont de l'ordre du pourcent. Les négliger se discute, mais on pourra considérer qu'elles sont égales.\n",
    "\n",
    "Nous n'avons, en théorie, prouvé aucune équivalence entre les deux méthodes ; on pouvait donc s'attendre à de telles différences.\n",
    "\n",
    "Enfin, on remarque que les **signes restent identiques** (pour les valeurs algébriques de débits et de flux), ce qui montre que les deux méthodes fournissent un réseau qui fonctionne de la même manière."
   ]
  },
  {
   "cell_type": "markdown",
   "id": "substantial-start",
   "metadata": {},
   "source": [
    "### $\\bullet$ Respect de la réalité physique\n",
    "\n",
    "Ceci se mesure avec le respect des équations $(2)$ et $(4)$. Nous rappelons les ordres de grandeur obtenus précedemment sur $\\|Aq-f\\|$ et $\\|A^Tp - r\\bullet q \\bullet |q|\\|$ respectivement :\n",
    "\n",
    "| Equation | Méthode 1 | Méthode 2|\n",
    "|----------|-----------|----------|\n",
    "| 2        |$10^{-9}$  |$10^{-16}$|\n",
    "| 4        |$10^{-9}$  |$1$       |\n",
    "\n",
    "Ces résultats correspondent à ce que l'on avait établi à la question 5 :\n",
    "* la première méthode donne des résultats approchés\n",
    "* la deuxième méthode donne une solution exacte pour $(2)$ ($10^{-16}$ peut être considéré comme une erreur de calcul sur des doubles) et approchée pour $(4)$.\n",
    "\n",
    "Cependant, l'erreur commises sur $(4)$ par la deuxième méthode est très grande devant celle de la méthode 1, dû au calcul fait par un second algorithme. Et, de plus, la solution exacte de la méthode 2 n'apporte qu'une correction minime (une erreur de $10^{-9}$ est déjà largement acceptable, étant donnés les ordres de grandeurs en jeu).\n",
    "\n",
    "Ainsi, **en ce qui concerne le respect de la réalité physique, on préfèrera utiliser la première méthode.**\n",
    "\n",
    "### $\\bullet$ Respect des conditions initiales\n",
    "\n",
    "Comme on s'y attendait (cf. question 5), les pressions $p_r$ et les flux $f_d$ rentrés dans les problèmes d'optimisation permettent dans les deux cas d'avoir des pressions et des flux qui respectent ces données.\n",
    "\n",
    "### $\\bullet$ Nombre d'itérations\n",
    "\n",
    "Voici un tableau récapitulant le nombre d'exécution pour chaque méthode :\n",
    "\n",
    "|Méthode 1|Méthode 2|\n",
    "|---------|---------|\n",
    "|106      |18       |\n",
    "\n",
    "(Pour la méthode 2, on pris en compte les deux résolutions de 7 et 11 itérations respectivement)\n",
    "\n",
    "Il est donc très avantageux de passer à la deuxième méthode, pour gagner un facteur 10 en temps de calcul. **En ce qui concerne le temps de calcul, on préfèrera utiliser la deuxième méthode.**"
   ]
  },
  {
   "cell_type": "markdown",
   "id": "opposite-cleanup",
   "metadata": {},
   "source": [
    "## Partie III"
   ]
  },
  {
   "cell_type": "markdown",
   "id": "structured-motel",
   "metadata": {},
   "source": [
    "## Question 10 : étude du lagrangien du problème"
   ]
  },
  {
   "cell_type": "markdown",
   "id": "sunset-cutting",
   "metadata": {},
   "source": [
    "Soit $\\lambda$ fixé, et considérons :\n",
    "\n",
    "$$\n",
    "\\Lambda :\n",
    "\\left\\{\n",
    "\\begin{array}{rcl}\n",
    "\\mathbb{R}^{l+m_r} & \\longrightarrow & \\mathbb{R}\\\\\n",
    "(q, f_r) & \\longmapsto & \\mathcal{L}(q, f_r, \\lambda)\n",
    "\\end{array}\n",
    "\\right.\n",
    "$$\n",
    "\n",
    "Pour minimiser cette fonction, on calcule son gradient, son hessien en montrant qu'elle est convexe.\n",
    "\n",
    "### $\\bullet$ Calcul du gradient et du hessien\n",
    "\n",
    "Le premier terme peut s'écrire :\n",
    "$$\n",
    "\\frac{1}{3}\\sum_{i=1}^lr_i|q_i|^3\n",
    "$$\n",
    "\n",
    "Sa dérivée partielle par rapport à $q_i$ s'écrit donc :\n",
    "$$\n",
    "\\dfrac{3}{3}r_iq_i|q_i| = r_iq_i|q_i|\n",
    "$$\n",
    "\n",
    "Ceci fournit donc le premier terme du gradient :\n",
    "$$\n",
    "\\left(\n",
    "\\begin{array}{c}\n",
    "r \\bullet q \\bullet |q|\\\\\n",
    "0\n",
    "\\end{array}\n",
    "\\right)\n",
    "$$\n",
    "\n",
    "Le deuxième terme du gradient est :\n",
    "$$\n",
    "\\left(\n",
    "\\begin{array}{c}\n",
    "0\\\\\n",
    "p_r\n",
    "\\end{array}\n",
    "\\right)\n",
    "$$\n",
    "\n",
    "et le troisième terme :\n",
    "\n",
    "$$\n",
    "\\left(\n",
    "\\begin{array}{c}\n",
    "A^T\\lambda\\\\\n",
    "-\\lambda_r\n",
    "\\end{array}\n",
    "\\right)\n",
    "$$\n",
    "\n",
    "Le gradient s'écrit donc :\n",
    "\n",
    "$$\n",
    "\\left(\n",
    "\\begin{array}{c}\n",
    "r \\bullet q \\bullet |q| + A^T\\lambda\\\\\n",
    "p_r -\\lambda_r\n",
    "\\end{array}\n",
    "\\right)\n",
    "$$\n",
    "\n",
    "Puis, en calculant le hessien, on remarque que c'est une matrice diagonale qui s'écrit :\n",
    "$$\n",
    "\\text{Diag}(2r_1|q_1|, 2r_2|q_2|,..., 2r_l|q_l|,0,...,0)\n",
    "$$\n",
    "\n",
    "Les termes diagonaux (*ie* les valeurs propres de la matrice) sont tous positifs, donc le hessien est positif : la fonction $\\Lambda$ est donc **convexe**. Chercher ses minima est équivalent à chercher ses points stationnaires.\n",
    "\n",
    "### $\\bullet$ Recherche des points stationnaires\n",
    "\n",
    "On résout $\\nabla \\Lambda = 0$. On trouve :\n",
    "$$\n",
    "\\left\\{\n",
    "\\begin{array}{rcl}\n",
    "r \\bullet q \\bullet |q| + A^T\\lambda&=&0\\\\\n",
    "p_r&=&\\lambda_r\\\\\n",
    "\\end{array}\n",
    "\\right.\n",
    "$$\n",
    "\n",
    "### $\\bullet$ Expression de l'`argmin`\n",
    "\n",
    "On peut donc en déduire une expression de l'`argmin` en $q$ :\n",
    "\n",
    "$$\n",
    "\\forall 1\\leq i\\leq l, r_iq_i|q_i|=-(A^T\\lambda)_i\n",
    "$$\n",
    "d'où :\n",
    "$$\n",
    "\\forall 1\\leq i\\leq l, q_i=-\\text{sgn}\\left(\\dfrac{1}{r_i}\\left(A^T\\lambda\\right)_i\\right) \\cdot \\sqrt{\\left|\\dfrac{1}{r_i}(A^T\\lambda)_i\\right|}\n",
    "$$\n",
    "\n",
    "### $\\bullet$ Expression du `min` et reformulation du problème dual\n",
    "\n",
    "En reprenant la première condition de stationnarité calculée précédemment, la valeur du lagrangien au minimum $\\mathcal{L}^*$ peut se réecrire :\n",
    "$$\n",
    "\\mathcal{L}^*=\\frac{1}{3}q^T\\left(-A^T\\lambda\\right) + p_r^Tf_r + \\lambda^TAq - \\lambda_d^Tf_d - \\lambda_r^Tf_r\n",
    "$$\n",
    "\n",
    "Qui se simplifie en (en passant à la transposée dans le premier terme) :\n",
    "\n",
    "$$\n",
    "\\mathcal{L}^*= p_r^Tf_r + \\frac{2}{3}\\lambda^TAq - \\lambda_d^Tf_d - \\lambda_r^Tf_r\n",
    "$$\n",
    "\n",
    "Puis en reprenant la deuxième condition de stationnarité :\n",
    "\n",
    "$$\n",
    "\\mathcal{L}^*= \\frac{2}{3}\\lambda^TAq - \\lambda_d^Tf_d\n",
    "$$\n",
    "\n",
    "Ainsi, le problème dual qui s'écrit initialement :\n",
    "\n",
    "$$\n",
    "\\max_{\\lambda}\\min_{q, f_r}\\mathcal{L}\n",
    "$$\n",
    "\n",
    "devient :\n",
    "\n",
    "$$\n",
    "\\max_{\\lambda}\\frac{2}{3}\\lambda^TAq(\\lambda) - \\lambda_d^Tf_d\n",
    "$$\n",
    "\n",
    "sous réserve que $\\lambda_r=p_r$. La variable de décision n'est donc plus vraiment $\\lambda$, mais $\\lambda_d$:\n",
    "$$\n",
    "\\max_{\\lambda_d}\\frac{2}{3}\\lambda^TAq(\\lambda) - \\lambda_d^Tf_d\n",
    "$$\n",
    "\n",
    "En le transformant en problème de minimisation, cela devient :\n",
    "$$\n",
    "-\\min_{\\lambda_d}\\lambda_d^Tf_d-\\frac{2}{3}\\lambda^TAq(\\lambda)\n",
    "$$"
   ]
  },
  {
   "cell_type": "markdown",
   "id": "matched-residence",
   "metadata": {},
   "source": [
    "## Question 11 : implémentation de la méthode du lagrangien ; comparaison des résultats"
   ]
  },
  {
   "cell_type": "markdown",
   "id": "nonprofit-elements",
   "metadata": {},
   "source": [
    "Les cellules suivantes font les opérations suivantes :\n",
    "* elles trouvent $\\lambda$ (en résolvant le problème de minimisation précédent sur $\\lambda_d$) ;\n",
    "* elles en déduisent $q$ (d'après la relation sur l'`argmin` précédente) ;\n",
    "* elles en déduisent $f$ (qui avait disparu des équations) de l'équation (2) ;\n",
    "* La valeur de $p$ est calculée à l'aide de la méthode des moindres carrés (comme précédemment)."
   ]
  },
  {
   "cell_type": "code",
   "execution_count": 14,
   "id": "controlled-state",
   "metadata": {},
   "outputs": [],
   "source": [
    "opti4 = casadi.Opti()\n",
    "\n",
    "# Récupération de la variable z\n",
    "n = md\n",
    "z = opti4.variable(n)\n",
    "\n",
    "# Définition de la fonction coût\n",
    "ca = casadi.mtimes(A.T,casadi.vertcat(pr,z))/r\n",
    "q = -casadi.sign(ca)*(casadi.sqrt(casadi.fabs(ca)))\n",
    "g = (2/3)*casadi.dot(casadi.vertcat(pr,z),casadi.mtimes(A,q))-casadi.dot(z,fd)\n",
    "opti4.minimize(-g)\n",
    "\n",
    "# Aucune contrainte\n",
    "\n",
    "# Définition de la valeur initiale (on ne peut pas prendre de condition np.ones(n), car le gradient de la racine divergerait, dans le calcul de q)\n",
    "z0 = np.array([1, 1.1, 1.2])\n",
    "opti4.set_initial(z,z0)\n",
    "\n",
    "# Définition du logiciel de résolution\n",
    "opti4.solver('ipopt')"
   ]
  },
  {
   "cell_type": "code",
   "execution_count": 15,
   "id": "thrown-probe",
   "metadata": {},
   "outputs": [
    {
     "name": "stdout",
     "output_type": "stream",
     "text": [
      "This is Ipopt version 3.13.4, running with linear solver mumps.\n",
      "NOTE: Other linear solvers might be more efficient (see Ipopt documentation).\n",
      "\n",
      "Number of nonzeros in equality constraint Jacobian...:        0\n",
      "Number of nonzeros in inequality constraint Jacobian.:        0\n",
      "Number of nonzeros in Lagrangian Hessian.............:        6\n",
      "\n",
      "Total number of variables............................:        3\n",
      "                     variables with only lower bounds:        0\n",
      "                variables with lower and upper bounds:        0\n",
      "                     variables with only upper bounds:        0\n",
      "Total number of equality constraints.................:        0\n",
      "Total number of inequality constraints...............:        0\n",
      "        inequality constraints with only lower bounds:        0\n",
      "   inequality constraints with lower and upper bounds:        0\n",
      "        inequality constraints with only upper bounds:        0\n",
      "\n",
      "iter    objective    inf_pr   inf_du lg(mu)  ||d||  lg(rg) alpha_du alpha_pr  ls\n",
      "   0  3.8731645e+02 0.00e+00 2.00e+00  -1.0 0.00e+00    -  0.00e+00 0.00e+00   0\n",
      "   1  3.4899769e+02 0.00e+00 3.35e+00  -1.0 1.53e+02    -  1.00e+00 1.00e+00f  1\n",
      "   2  3.1635284e+02 0.00e+00 2.01e+00  -1.0 1.35e+02    -  1.00e+00 1.00e+00f  1\n",
      "   3  2.8242811e+02 0.00e+00 2.74e+00  -1.0 1.21e+02    -  1.00e+00 1.00e+00f  1\n",
      "   4  2.5376413e+02 0.00e+00 1.55e+00  -1.0 1.03e+02    -  1.00e+00 1.00e+00f  1\n",
      "   5  2.2476370e+02 0.00e+00 2.32e+00  -1.0 8.96e+01    -  1.00e+00 1.00e+00f  1\n",
      "   6  2.0147650e+02 0.00e+00 1.07e+00  -1.0 7.01e+01    -  1.00e+00 1.00e+00f  1\n",
      "   7  1.7884918e+02 0.00e+00 1.74e+00  -1.0 5.69e+01    -  1.00e+00 1.00e+00f  1\n",
      "   8  1.6347951e+02 0.00e+00 8.37e-01  -1.0 3.57e+01    -  1.00e+00 1.00e+00f  1\n",
      "   9  1.5479092e+02 0.00e+00 4.47e-01  -1.7 2.02e+01    -  1.00e+00 1.00e+00f  1\n",
      "iter    objective    inf_pr   inf_du lg(mu)  ||d||  lg(rg) alpha_du alpha_pr  ls\n",
      "  10  1.5340070e+02 0.00e+00 9.92e-02  -1.7 4.62e+00    -  1.00e+00 1.00e+00f  1\n",
      "  11  1.5332627e+02 0.00e+00 4.00e-03  -2.5 1.32e+00    -  1.00e+00 1.00e+00f  1\n",
      "  12  1.5332613e+02 0.00e+00 7.09e-06  -3.8 5.57e-02    -  1.00e+00 1.00e+00f  1\n",
      "  13  1.5332613e+02 0.00e+00 2.46e-11  -8.6 9.82e-05    -  1.00e+00 1.00e+00f  1\n",
      "\n",
      "Number of Iterations....: 13\n",
      "\n",
      "                                   (scaled)                 (unscaled)\n",
      "Objective...............:   1.5332612885128049e+02    1.5332612885128049e+02\n",
      "Dual infeasibility......:   2.4571900070213815e-11    2.4571900070213815e-11\n",
      "Constraint violation....:   0.0000000000000000e+00    0.0000000000000000e+00\n",
      "Complementarity.........:   0.0000000000000000e+00    0.0000000000000000e+00\n",
      "Overall NLP error.......:   2.4571900070213815e-11    2.4571900070213815e-11\n",
      "\n",
      "\n",
      "Number of objective function evaluations             = 14\n",
      "Number of objective gradient evaluations             = 14\n",
      "Number of equality constraint evaluations            = 0\n",
      "Number of inequality constraint evaluations          = 0\n",
      "Number of equality constraint Jacobian evaluations   = 0\n",
      "Number of inequality constraint Jacobian evaluations = 0\n",
      "Number of Lagrangian Hessian evaluations             = 13\n",
      "Total CPU secs in IPOPT (w/o function evaluations)   =      0.055\n",
      "Total CPU secs in NLP function evaluations           =      0.001\n",
      "\n",
      "EXIT: Optimal Solution Found.\n",
      "      solver  :   t_proc      (avg)   t_wall      (avg)    n_eval\n",
      "       nlp_f  |   1.00ms ( 71.43us) 247.90us ( 17.71us)        14\n",
      "  nlp_grad_f  |        0 (       0) 183.20us ( 12.21us)        15\n",
      "  nlp_hess_l  |        0 (       0) 292.50us ( 22.50us)        13\n",
      "       total  |  57.00ms ( 57.00ms)  57.59ms ( 57.59ms)         1\n"
     ]
    }
   ],
   "source": [
    "# Résolution\n",
    "sol4 = opti4.solve()"
   ]
  },
  {
   "cell_type": "code",
   "execution_count": 16,
   "id": "brown-essay",
   "metadata": {
    "scrolled": false
   },
   "outputs": [],
   "source": [
    "# Calcul des résultats :\n",
    "# La valeur de q est déduite de celle de l'argmin\n",
    "# La valeur de f (qui avait disparu des équations) est déduite de l'équation (2)\n",
    "# La valeur de p est calculée à l'aide de la méthode des moindres carrés (comme précédemment)\n",
    "lambda_sol = sol4.value(z)\n",
    "\n",
    "ca = np.matmul(A.T,np.concatenate((pr,lambda_sol)))/r\n",
    "q3 = -np.sign(ca)*(np.sqrt(np.abs(ca)))\n",
    "f3 = np.matmul(A, q3)"
   ]
  },
  {
   "cell_type": "code",
   "execution_count": 17,
   "id": "major-monster",
   "metadata": {},
   "outputs": [],
   "source": [
    "# Problème suivant : trouver p (moindres carrés)\n",
    "opti5 = casadi.Opti()\n",
    "\n",
    "# Récupération de la variable p\n",
    "n = m\n",
    "p_lag = opti5.variable(n)\n",
    "    \n",
    "# Définition de la fonction coût\n",
    "b = r*q3*casadi.fabs(q3)\n",
    "f = casadi.norm_2(casadi.mtimes(A.T,p_lag)-b)\n",
    "opti5.minimize(f)\n",
    "\n",
    "# Définition de la contrainte égalité\n",
    "opti5.subject_to(p_lag[0:mr] == pr)\n",
    "\n",
    "# Définition de la valeur initiale\n",
    "p_lag0 = np.ones(n)\n",
    "opti5.set_initial(p_lag,p_lag0)\n",
    "\n",
    "# Définition du logiciel de résolution\n",
    "opti5.solver('ipopt')"
   ]
  },
  {
   "cell_type": "code",
   "execution_count": 18,
   "id": "elect-spectacular",
   "metadata": {},
   "outputs": [
    {
     "name": "stdout",
     "output_type": "stream",
     "text": [
      "This is Ipopt version 3.13.4, running with linear solver mumps.\n",
      "NOTE: Other linear solvers might be more efficient (see Ipopt documentation).\n",
      "\n",
      "Number of nonzeros in equality constraint Jacobian...:        2\n",
      "Number of nonzeros in inequality constraint Jacobian.:        0\n",
      "Number of nonzeros in Lagrangian Hessian.............:       15\n",
      "\n",
      "Total number of variables............................:        5\n",
      "                     variables with only lower bounds:        0\n",
      "                variables with lower and upper bounds:        0\n",
      "                     variables with only upper bounds:        0\n",
      "Total number of equality constraints.................:        2\n",
      "Total number of inequality constraints...............:        0\n",
      "        inequality constraints with only lower bounds:        0\n",
      "   inequality constraints with lower and upper bounds:        0\n",
      "        inequality constraints with only upper bounds:        0\n",
      "\n",
      "iter    objective    inf_pr   inf_du lg(mu)  ||d||  lg(rg) alpha_du alpha_pr  ls\n",
      "   0  1.7114980e+01 1.04e+02 9.45e-01  -1.0 0.00e+00    -  0.00e+00 0.00e+00   0\n",
      "   1  5.6868161e+03 0.00e+00 1.79e+01  -1.0 3.42e+03    -  1.00e+00 1.00e+00h  1\n",
      "   2  5.7715605e+02 0.00e+00 1.79e+01  -1.0 3.06e+10    -  1.00e+00 1.19e-07f 24\n",
      "   3  2.6101864e+02 0.00e+00 1.79e+01  -1.0 3.19e+07    -  1.00e+00 1.53e-05f 17\n",
      "   4  4.9133460e+01 0.00e+00 1.79e+01  -1.0 2.96e+06    -  1.00e+00 6.10e-05f 15\n",
      "   5  1.7146789e+01 0.00e+00 1.78e+01  -1.0 1.97e+04    -  1.00e+00 1.95e-03f 10\n",
      "   6  5.6462703e+00 0.00e+00 1.75e+01  -1.0 8.33e+02    -  1.00e+00 1.56e-02f  7\n",
      "   7  2.0112346e+00 0.00e+00 1.47e+01  -1.0 2.82e+01    -  1.00e+00 1.25e-01f  4\n",
      "   8  1.8743584e+00 0.00e+00 1.21e-01  -1.0 4.96e-01    -  1.00e+00 1.00e+00f  1\n",
      "   9  1.8708287e+00 0.00e+00 1.95e-03  -2.5 6.71e-02    -  1.00e+00 1.00e+00f  1\n",
      "iter    objective    inf_pr   inf_du lg(mu)  ||d||  lg(rg) alpha_du alpha_pr  ls\n",
      "  10  1.8708287e+00 0.00e+00 2.52e-08  -3.8 2.53e-04    -  1.00e+00 1.00e+00f  1\n",
      "  11  1.8708287e+00 0.00e+00 9.44e-16  -8.6 1.36e-11    -  1.00e+00 1.00e+00f  1\n",
      "\n",
      "Number of Iterations....: 11\n",
      "\n",
      "                                   (scaled)                 (unscaled)\n",
      "Objective...............:   1.8708286933869718e+00    1.8708286933869718e+00\n",
      "Dual infeasibility......:   9.4368957093138306e-16    9.4368957093138306e-16\n",
      "Constraint violation....:   0.0000000000000000e+00    0.0000000000000000e+00\n",
      "Complementarity.........:   0.0000000000000000e+00    0.0000000000000000e+00\n",
      "Overall NLP error.......:   9.4368957093138306e-16    9.4368957093138306e-16\n",
      "\n",
      "\n",
      "Number of objective function evaluations             = 89\n",
      "Number of objective gradient evaluations             = 12\n",
      "Number of equality constraint evaluations            = 89\n",
      "Number of inequality constraint evaluations          = 0\n",
      "Number of equality constraint Jacobian evaluations   = 12\n",
      "Number of inequality constraint Jacobian evaluations = 0\n",
      "Number of Lagrangian Hessian evaluations             = 11\n",
      "Total CPU secs in IPOPT (w/o function evaluations)   =      0.062\n",
      "Total CPU secs in NLP function evaluations           =      0.002\n",
      "\n",
      "EXIT: Optimal Solution Found.\n",
      "      solver  :   t_proc      (avg)   t_wall      (avg)    n_eval\n",
      "       nlp_f  |        0 (       0) 213.30us (  2.40us)        89\n",
      "       nlp_g  |   1.00ms ( 11.24us) 181.50us (  2.04us)        89\n",
      "  nlp_grad_f  |        0 (       0)  79.60us (  6.12us)        13\n",
      "  nlp_hess_l  |   1.00ms ( 90.91us) 177.20us ( 16.11us)        11\n",
      "   nlp_jac_g  |        0 (       0)  50.20us (  3.86us)        13\n",
      "       total  |  67.00ms ( 67.00ms)  67.02ms ( 67.02ms)         1\n"
     ]
    }
   ],
   "source": [
    "# Résolution du problème permettant de trouver p\n",
    "sol5 = opti5.solve()\n",
    "p3 = sol5.value(p_lag)"
   ]
  },
  {
   "cell_type": "code",
   "execution_count": 19,
   "id": "lasting-motivation",
   "metadata": {},
   "outputs": [
    {
     "name": "stdout",
     "output_type": "stream",
     "text": [
      "\n",
      "==Affichage des résultats (problème 3)==\n",
      "\n",
      "-->Pressions :\n",
      "    - pressions aux réservoirs : [105. 104.]\n",
      "    - pressions aux demandes   : [108.47504205 114.56490545 114.0466566 ]\n",
      "-->Flux :\n",
      "    - flux aux réservoirs      : [-1.22716618 -0.28283382]\n",
      "    - flux aux demandes        : [0.08 1.3  0.13]\n",
      "-->Débits :\n",
      "[ 0.21154295  1.01562323  0.09641917  0.18641465  0.24165809 -0.04271868\n",
      "  0.07629951]\n",
      "\n",
      "==Fin de l'affichage des résultats==\n",
      "\n"
     ]
    }
   ],
   "source": [
    "# Affichage des résultats\n",
    "\n",
    "print(\"\\n==Affichage des résultats (problème 3)==\\n\")\n",
    "print(\"-->Pressions :\")\n",
    "print(\"    - pressions aux réservoirs :\", p3[0:mr])\n",
    "print(\"    - pressions aux demandes   :\", p3[mr:])\n",
    "print(\"-->Flux :\")\n",
    "print(\"    - flux aux réservoirs      :\", f3[:mr])\n",
    "print(\"    - flux aux demandes        :\", f3[mr:])\n",
    "print(\"-->Débits :\")\n",
    "print(q3)\n",
    "print(\"\\n==Fin de l'affichage des résultats==\\n\")"
   ]
  },
  {
   "cell_type": "code",
   "execution_count": 20,
   "id": "patient-gathering",
   "metadata": {},
   "outputs": [
    {
     "name": "stdout",
     "output_type": "stream",
     "text": [
      "-->Valeur de ||Aq-f||          : 0.0\n",
      "-->Valeur de ||A^T*p - r*q*q|| : 1.8708286933869718\n"
     ]
    }
   ],
   "source": [
    "print(\"-->Valeur de ||Aq-f||          :\", np.linalg.norm(np.dot(A, q3) - f3))\n",
    "print(\"-->Valeur de ||A^T*p - r*q*q|| :\", np.linalg.norm(np.dot(A.T, p3) - r*q3*np.abs(q3)))"
   ]
  },
  {
   "cell_type": "markdown",
   "id": "rough-entrepreneur",
   "metadata": {},
   "source": [
    "Puisque l'on trouve f grâce à (2), il est normal que cette équation soit absolument vérifiée. En revanche, l'erreur sur (4), bien que toujours du domaine de l'acceptable, reste relativement élévée."
   ]
  },
  {
   "cell_type": "markdown",
   "id": "historic-family",
   "metadata": {},
   "source": [
    "### $\\bullet$ Comparaison des résultats\n",
    "\n",
    "Voici la différence relative de pressions, de flux et de débits obtenus entre la méthode 2 et cette méthode (l'indice 2 correspond à la première méthode ; l'indice 3 à celle du lagrangien) :"
   ]
  },
  {
   "cell_type": "code",
   "execution_count": 21,
   "id": "spare-means",
   "metadata": {
    "scrolled": true
   },
   "outputs": [
    {
     "name": "stdout",
     "output_type": "stream",
     "text": [
      "||p2-p3||/||p2||= 3.6352112913110143e-12\n",
      "||f2-f3||/||f2||= 1.740609543553249e-11\n",
      "||q2-q3||/||q2||= 1.893330508225475e-11\n"
     ]
    }
   ],
   "source": [
    "# On calcule les normes des vecteurs différence\n",
    "\n",
    "p_diff = np.linalg.norm(p2-p3)/np.linalg.norm(p2)\n",
    "f_diff = np.linalg.norm(f2-f3)/np.linalg.norm(f2)\n",
    "q_diff = np.linalg.norm(q2-q3)/np.linalg.norm(q2)\n",
    "\n",
    "print(\"||p2-p3||/||p2||=\", p_diff)\n",
    "print(\"||f2-f3||/||f2||=\", f_diff)\n",
    "print(\"||q2-q3||/||q2||=\", q_diff)"
   ]
  },
  {
   "cell_type": "markdown",
   "id": "polyphonic-visiting",
   "metadata": {},
   "source": [
    "Nous remarquons que les différences sont négligeables. **Cette méthode fournit les mêmes solutions que la méthode 2**. Résoudre le problème dual revient donc au même que résoudre le problème original, *ie* que résoudre le problème primal. Le saut de dualité est donc nul.\n",
    "\n",
    "Ces solutions respectent donc la réalité physique et les conditions initiales de la même manière, au détail près que la relation (2) est absolument vérifiée avec la méthode 3."
   ]
  },
  {
   "cell_type": "markdown",
   "id": "gross-albany",
   "metadata": {},
   "source": [
    "### $\\bullet$ Nombre d'itérations\n",
    "\n",
    "Il est pertinent de comparer le temps d'exécution de la méthode 2 et de celle du lagrangien (elles donnent les mêmes résultats) :\n",
    "\n",
    "| Méthode 2 | Méthode 3 |\n",
    "|-----------|-----------|\n",
    "|18         |24         |\n",
    "\n",
    "Elles sont du même ordre de grandeur, avec un léger avantage pour la deuxième méthode. Passer par le problème dual est donc légèrement plus lent."
   ]
  },
  {
   "cell_type": "code",
   "execution_count": null,
   "id": "early-interpretation",
   "metadata": {},
   "outputs": [],
   "source": []
  }
 ],
 "metadata": {
  "kernelspec": {
   "display_name": "Python 3",
   "language": "python",
   "name": "python3"
  },
  "language_info": {
   "codemirror_mode": {
    "name": "ipython",
    "version": 3
   },
   "file_extension": ".py",
   "mimetype": "text/x-python",
   "name": "python",
   "nbconvert_exporter": "python",
   "pygments_lexer": "ipython3",
   "version": "3.8.5"
  }
 },
 "nbformat": 4,
 "nbformat_minor": 5
}
